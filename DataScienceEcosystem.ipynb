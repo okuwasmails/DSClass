{
 "cells": [
  {
   "cell_type": "markdown",
   "id": "c4ac8457-7f9b-40c7-944d-05641c84ae22",
   "metadata": {},
   "source": [
    "# Data Science Tools and Ecosystem"
   ]
  },
  {
   "cell_type": "markdown",
   "id": "0a41c4da-a615-4176-a6ec-4562b9ae4a83",
   "metadata": {
    "tags": []
   },
   "source": [
    "In this notebook, Data Science Tools and Ecosystem are summarized.\n",
    "\n",
    "**Objectives:**\n",
    "\n",
    "- List popular languages for Data Science.\n",
    "- Introduce common libraries used in Python and R for Data Science.\n",
    "- Perform basic arithmetic operations in Python.\n",
    "- Convert units of time using Python expressions.\n",
    "- Explain the usage of Jupyter Notebook for Data Science tasks.\n",
    "\n",
    "## Author\n",
    "Okuwa Nwanze\n"
   ]
  },
  {
   "cell_type": "markdown",
   "id": "e4edad70-7405-4d58-abb1-bb78eb03fa59",
   "metadata": {},
   "source": [
    "Some of the popular languages that Data Scientists use are:\n",
    "1. Python\n",
    "2. R\n",
    "3. Julia\n",
    "4. Scala"
   ]
  },
  {
   "cell_type": "markdown",
   "id": "d2e08a58-211c-451b-8dd4-725cefa8abea",
   "metadata": {},
   "source": [
    "Some of the commonly used libraries used by Data Scientists include:\n",
    "1. Numpy in Python\n",
    "2. Pandas in Python\n",
    "3. dplyr in R\n",
    "4. ggplot2 in R"
   ]
  },
  {
   "cell_type": "markdown",
   "id": "91480029-5f7e-44bf-b2c7-8e827abaa3c8",
   "metadata": {},
   "source": [
    "| Data Science Tools   |\n",
    "|----------------------|\n",
    "| Jupyter Notebook     |\n",
    "| RStudio              |\n",
    "| VS Code with Python  |\n",
    "\n"
   ]
  },
  {
   "cell_type": "markdown",
   "id": "cd7e7c25-089d-475b-a6fa-325aa8704914",
   "metadata": {},
   "source": [
    "### Below are a few examples of evaluating arithmetic expressions in Python"
   ]
  },
  {
   "cell_type": "code",
   "execution_count": 2,
   "id": "4996a80f-8ad4-4609-9b27-39286ae8035d",
   "metadata": {
    "tags": []
   },
   "outputs": [
    {
     "data": {
      "text/plain": [
       "17"
      ]
     },
     "execution_count": 2,
     "metadata": {},
     "output_type": "execute_result"
    }
   ],
   "source": [
    "# This is a simple arithmetic expression to multiply then add integers\n",
    "result = (3 * 4) + 5\n",
    "result\n"
   ]
  },
  {
   "cell_type": "code",
   "execution_count": 3,
   "id": "68819918-5e25-48c8-8a57-2efbd358a45f",
   "metadata": {
    "tags": []
   },
   "outputs": [
    {
     "data": {
      "text/plain": [
       "3.3333333333333335"
      ]
     },
     "execution_count": 3,
     "metadata": {},
     "output_type": "execute_result"
    }
   ],
   "source": [
    "# This will convert 200 minutes to hours by dividing by 60\n",
    "hours = 200 / 60\n",
    "hours\n"
   ]
  },
  {
   "cell_type": "code",
   "execution_count": null,
   "id": "efcf9e0c-a61c-46e0-a3fe-292b73418ece",
   "metadata": {},
   "outputs": [],
   "source": []
  }
 ],
 "metadata": {
  "kernelspec": {
   "display_name": "Python",
   "language": "python",
   "name": "conda-env-python-py"
  },
  "language_info": {
   "codemirror_mode": {
    "name": "ipython",
    "version": 3
   },
   "file_extension": ".py",
   "mimetype": "text/x-python",
   "name": "python",
   "nbconvert_exporter": "python",
   "pygments_lexer": "ipython3",
   "version": "3.7.12"
  }
 },
 "nbformat": 4,
 "nbformat_minor": 5
}
